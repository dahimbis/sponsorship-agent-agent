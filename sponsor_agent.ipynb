{
 "cells": [
  {
   "cell_type": "code",
   "execution_count": 1,
   "id": "ca21886f",
   "metadata": {},
   "outputs": [],
   "source": [
    "from dotenv import load_dotenv\n",
    "from agents import Agent, Runner, trace, function_tool\n",
    "from openai.types.responses import ResponseTextDeltaEvent\n",
    "from typing import Dict\n",
    "import sendgrid\n",
    "import os\n",
    "from sendgrid.helpers.mail import Mail, Email, To, Content\n",
    "import asyncio"
   ]
  },
  {
   "cell_type": "code",
   "execution_count": 2,
   "id": "d01a13fa",
   "metadata": {},
   "outputs": [
    {
     "name": "stdout",
     "output_type": "stream",
     "text": [
      "Available\n"
     ]
    }
   ],
   "source": [
    "load_dotenv(override=True)\n",
    "\n",
    "sendgrid_api_key =os.environ.get(\"SENDGRID_API_KEY\")\n",
    "if sendgrid_api_key:\n",
    "    print(\"Available\")\n",
    "else:\n",
    "    print(\"No sendgrid Found\")"
   ]
  },
  {
   "cell_type": "code",
   "execution_count": 3,
   "id": "dd9a400d",
   "metadata": {},
   "outputs": [
    {
     "name": "stdout",
     "output_type": "stream",
     "text": [
      "202\n"
     ]
    }
   ],
   "source": [
    "def send_test_email():\n",
    "    sg = sendgrid.SendGridAPIClient(api_key=sendgrid_api_key)\n",
    "    from_email = Email(\"heartdan66@gmail.com\")\n",
    "    to_email = To(\"heartdan66@gmail.com\")\n",
    "    content = Content(\"text/plain\",\"Hello Dan, this is text email\")\n",
    "    mail = Mail(from_email,to_email, \"Test email\", content).get()\n",
    "    response = sg.client.mail.send.post(request_body=mail)\n",
    "    print(response.status_code)\n",
    "send_test_email()"
   ]
  },
  {
   "cell_type": "code",
   "execution_count": 4,
   "id": "d3889145",
   "metadata": {},
   "outputs": [],
   "source": [
    "instruction1 =\" You are part of an IEEE Rising working as Sponsorship Volunteer \\\n",
    "    IEEE Rising Stars is annual Conference that happens in Las Vegas in First Week of January Every Year\\\n",
    "        You write Professional, serious cold emails to companies and universities requesting to be part of the sponsors \\\n",
    "            The conference will take place next year 2026 on January 3-5, 2025 at Luxor Hotel\"\n",
    "    \n",
    "\n",
    "instruction2 = \"You are convincing agent part of an IEEE Rising working as Sponsorship Volunteer \\\n",
    "    IEEE Rising Stars is annual Conference that happens in Las Vegas in First Week of January Every Year\\\n",
    "        You write witty, enging cold emails to universities andc companies requesting to be part of the sponsors\\\n",
    "            that are likely to get a response\\\n",
    "                The conference will take place next year 2026 on January 3-5, 2025 at Luxor Hotel\"\n",
    "\n",
    "instruction3 = \"You are busy part of an IEEE Rising working as Sponsorship Volunteer \\\n",
    "    IEEE Rising Stars is annual Conference that happens in Las Vegas in First Week of January Every Year\\\n",
    "        You conncise, and to the point cold emails universities andc companies requesting to be part of the sponsors\\\n",
    "            that are likely to get a response\\\n",
    "                The conference will take place next year 2026 on January 3-5, 2025 at Luxor Hotel\"     "
   ]
  },
  {
   "cell_type": "code",
   "execution_count": 5,
   "id": "1fb7defc",
   "metadata": {},
   "outputs": [],
   "source": [
    "volunteer_agent1= Agent(\n",
    "    name = \" Professional Volunteer\",\n",
    "    instructions = instruction1,\n",
    "    model = \"gpt-4o-mini\"\n",
    ")\n",
    "\n",
    "volunteer_agent2=Agent(\n",
    "    name=\"Convicing Agent\",\n",
    "    instructions = instruction2,\n",
    "    model=\"gpt-4o-mini\"\n",
    "\n",
    "\n",
    ")\n",
    "volunteer_agent3=Agent(\n",
    "    name=\"Busy_Volunteer\",\n",
    "    instructions = instruction3,\n",
    "    model=\"gpt-4o-mini\"\n",
    ")"
   ]
  },
  {
   "cell_type": "code",
   "execution_count": 6,
   "id": "27b47809",
   "metadata": {},
   "outputs": [
    {
     "name": "stdout",
     "output_type": "stream",
     "text": [
      "Subject: Sponsorship Opportunity at IEEE Rising Stars Conference 2026\n",
      "\n",
      "Dear [Recipient's Name],\n",
      "\n",
      "I hope this message finds you well. My name is [Your Name], and I am a Sponsorship Volunteer for the IEEE Rising Stars Conference, an annual event that brings together emerging professionals in the engineering and technology fields. We are excited to announce that the next conference will take place from January 3-5, 2026, at the Luxor Hotel in Las Vegas.\n",
      "\n",
      "The IEEE Rising Stars Conference provides a unique platform for networking, knowledge sharing, and collaboration among engineers, academic professionals, and industry leaders. As a sponsor, your organization will have the opportunity to position itself as a thought leader in the technology space, engage with a diverse audience, and showcase your commitment to fostering the next generation of talent in our industry.\n",
      "\n",
      "We are currently seeking sponsors who are aligned with our mission to inspire and empower young engineers and technologists. The sponsorship packages we offer come with various benefits, including exhibition space, brand visibility, and opportunities for speaking engagements, allowing your organization to make a significant impact at the event.\n",
      "\n",
      "I would be delighted to discuss the available sponsorship opportunities in more detail and explore how we can align our goals to create a mutually beneficial partnership. Please let me know a convenient time for us to connect.\n",
      "\n",
      "Thank you for considering this opportunity to be a part of the IEEE Rising Stars Conference 2026. I look forward to the possibility of collaborating to inspire the future of engineering.\n",
      "\n",
      "Best regards,\n",
      "\n",
      "[Your Name]  \n",
      "[Your Title/Position]  \n",
      "IEEE Rising Stars Conference  \n",
      "[Your Email Address]  \n",
      "[Your Phone Number]  \n"
     ]
    }
   ],
   "source": [
    "with trace(\"Sponsor Agent\"):\n",
    "    result = await Runner.run(volunteer_agent1, \"Write a Cold Email\")\n",
    "    print(result.final_output)"
   ]
  },
  {
   "cell_type": "code",
   "execution_count": 7,
   "id": "5809fc5e",
   "metadata": {},
   "outputs": [
    {
     "name": "stdout",
     "output_type": "stream",
     "text": [
      "Subject: Partnership Opportunity: Showcase Your Brand at IEEE Rising Stars 2026\n",
      "\n",
      "Dear [Recipient's Name],\n",
      "\n",
      "I hope this message finds you well. My name is [Your Name], and I am reaching out on behalf of the IEEE Rising Stars Conference, an annual event that gathers bright minds in the engineering and technology sectors. This premier conference will be held from January 3-5, 2026, at the Luxor Hotel in Las Vegas.\n",
      "\n",
      "As a dynamic platform that fosters innovation and collaboration, IEEE Rising Stars attracts a diverse audience, including students, professionals, and industry leaders keen on advancing their knowledge and networks. With your company's commitment to [relevant field/industry], we believe a partnership could offer significant value.\n",
      "\n",
      "**Why Sponsor IEEE Rising Stars 2026?**\n",
      "- **Brand Exposure:** Gain visibility among a targeted audience of over [number] attendees, including future talent and industry influencers.\n",
      "- **Networking Opportunities:** Connect with potential collaborators, customers, and partners in a vibrant environment.\n",
      "- **Thought Leadership:** Showcase your expertise through speaking opportunities, workshops, or panel discussions.\n",
      "\n",
      "We offer various sponsorship packages tailored to meet your marketing objectives. I would love the opportunity to discuss how we can align your goals with the unique benefits of being a sponsor at our conference.\n",
      "\n",
      "Would you be available for a brief call in the coming days? I look forward to the possibility of collaborating to make IEEE Rising Stars 2026 an unforgettable experience.\n",
      "\n",
      "Thank you for considering this opportunity.\n",
      "\n",
      "Best regards,\n",
      "\n",
      "[Your Name]  \n",
      "[Your Position]  \n",
      "IEEE Rising Stars Conference  \n",
      "[Your Contact Information]  \n",
      "[IEEE Website/Link to Conference Info]  "
     ]
    }
   ],
   "source": [
    "result = Runner.run_streamed(volunteer_agent1, input=\"Write a cool sales Email\")\n",
    "async for event in result.stream_events():\n",
    "    if event.type ==\"raw_response_event\" and isinstance(event.data, ResponseTextDeltaEvent):\n",
    "        print(event.data.delta, end =\"\", flush =True)"
   ]
  },
  {
   "cell_type": "code",
   "execution_count": 8,
   "id": "0420b15e",
   "metadata": {},
   "outputs": [
    {
     "name": "stdout",
     "output_type": "stream",
     "text": [
      "Subject: Partnership Opportunity at IEEE Rising Stars Conference 2026\n",
      "\n",
      "Dear [Recipient's Name],\n",
      "\n",
      "I hope this message finds you well. My name is [Your Name], and I am a Sponsorship Volunteer for the IEEE Rising Stars Conference, which will take place from January 3-5, 2026, at the Luxor Hotel in Las Vegas. \n",
      "\n",
      "The IEEE Rising Stars Conference serves as a premier platform for networking and collaboration among emerging leaders, innovators, and professionals in the field of engineering and technology. With an expected attendance of over [insert expected number] students, early career professionals, and industry leaders, this event presents a unique opportunity for organizations like yours to connect with the brightest minds and showcase your commitment to advancing technology and innovation.\n",
      "\n",
      "We are currently seeking sponsors who share our vision of fostering learning and professional development within the engineering community. By partnering with us, your organization will gain visibility through various sponsorship packages that include:\n",
      "\n",
      "- Logo placement on conference materials and website\n",
      "- Dedicated booth space for direct engagement with attendees\n",
      "- Opportunities to present workshops or sessions\n",
      "- Access to the conference's extensive networking events\n",
      "\n",
      "We believe that your involvement would not only benefit the participants but also strengthen your brand's presence within this dynamic community.\n",
      "\n",
      "I would love the opportunity to discuss this further and explore how we can partner for a successful event. Please let me know if you are available for a brief call or meeting at your convenience.\n",
      "\n",
      "Thank you for considering this opportunity. I look forward to the possibility of collaborating with you at the IEEE Rising Stars Conference 2026.\n",
      "\n",
      "Warm regards,\n",
      "\n",
      "[Your Name]  \n",
      "[Your Title]  \n",
      "IEEE Rising Stars Conference 2026  \n",
      "[Your Email]  \n",
      "[Your Phone Number]  \n",
      "[Your LinkedIn Profile or Website, if applicable]  \n",
      "\n",
      "\n",
      "Subject: Elevate Your Brand at the IEEE Rising Stars Conference 2026!\n",
      "\n",
      "Dear [Recipient's Name],\n",
      "\n",
      "I hope this email finds you well and thriving! As we dive into the future of technology and innovation, I’m reaching out on behalf of the IEEE Rising Stars Conference happening from January 3-5, 2026, at the vibrant Luxor Hotel in Las Vegas.\n",
      "\n",
      "Imagine this: over a thousand enthusiastic minds coming together to connect, collaborate, and revolutionize the future of engineering. This is your chance to be front and center as a sponsor, positioning your brand among the brightest talent in the industry!\n",
      "\n",
      "**Why Sponsor?**  \n",
      "- **Brand Visibility**: Showcase your company to future engineers, industry leaders, and potential partners.\n",
      "- **Networking Opportunities**: Engage with eager students and professionals who are looking for real-world connections and opportunities.\n",
      "- **Thought Leadership**: Share your insights through keynote sessions or workshops, establishing your organization as a leader in the field.\n",
      "\n",
      "This isn’t just a conference; it’s a launchpad for careers and collaborations. By joining us as a sponsor, you’ll not only elevate your brand but also play a vital role in shaping the future of engineering.\n",
      "\n",
      "I’d love to discuss how we can tailor a sponsorship package that aligns with your goals and values. Let’s set up a time to chat about the exciting possibilities!\n",
      "\n",
      "Looking forward to your response.\n",
      "\n",
      "Best regards,  \n",
      "[Your Name]  \n",
      "Sponsorship Volunteer  \n",
      "IEEE Rising Stars Conference  \n",
      "[Your Contact Information]  \n",
      "\n",
      "\n",
      "Subject: Sponsorship Opportunity at IEEE Rising Stars Conference 2026\n",
      "\n",
      "Dear [Recipient's Name],\n",
      "\n",
      "I hope this message finds you well. I'm reaching out to introduce you to an exciting opportunity to showcase your organization at the upcoming IEEE Rising Stars Conference, taking place January 3-5, 2026, at the Luxor Hotel in Las Vegas.\n",
      "\n",
      "This conference will gather emerging professionals, industry leaders, and academia to share insights and innovations in engineering and technology. As a sponsor, your organization will gain:\n",
      "\n",
      "- Visibility among a diverse audience of students, academics, and industry representatives\n",
      "- Opportunities for networking and collaboration\n",
      "- Access to tailored sponsorship packages that align with your goals\n",
      "\n",
      "We would love to discuss how we can partner together and highlight your commitment to the future of technology and innovation. \n",
      "\n",
      "Please let me know if you’d be interested in a brief chat or if you would like to receive our sponsorship prospectus.\n",
      "\n",
      "Thank you for considering this opportunity. I look forward to hearing from you soon.\n",
      "\n",
      "Best regards,\n",
      "\n",
      "[Your Full Name]  \n",
      "[Your Position]  \n",
      "IEEE Rising Stars Conference Sponsorship Team  \n",
      "[Your Contact Information]  \n",
      "[Your LinkedIn Profile (if applicable)]\n",
      "\n",
      "\n"
     ]
    }
   ],
   "source": [
    "message = \"Writea cold sponsor email\"\n",
    "\n",
    "with trace(\"Parallel Cold Emails\"):\n",
    "    results = await asyncio.gather(\n",
    "        Runner.run(volunteer_agent1, message),\n",
    "        Runner.run(volunteer_agent2, message),\n",
    "        Runner.run(volunteer_agent3, message)\n",
    "    )\n",
    "\n",
    "outputs = [result.final_output for result in results]\n",
    "\n",
    "for output in outputs:\n",
    "    print(output +\"\\n\\n\")"
   ]
  },
  {
   "cell_type": "code",
   "execution_count": 9,
   "id": "88c6aa0b",
   "metadata": {},
   "outputs": [],
   "source": [
    "volunteer_pick = Agent(\n",
    "    name=\"Volunteer_Picker\",\n",
    "    instructions=\" You pick the best cold emails from given options. \\\n",
    "        Imagine you are a sponosr and pick the one you are most likely to response to. \\\n",
    "            Dont not give an explanation; reply with the selected email only. \",\n",
    "    model =\"gpt-4o-mini\"\n",
    ")"
   ]
  },
  {
   "cell_type": "code",
   "execution_count": 10,
   "id": "d9ea066b",
   "metadata": {},
   "outputs": [
    {
     "name": "stdout",
     "output_type": "stream",
     "text": [
      "Best Sponsor Email:\n",
      "Subject: Elevate Your Brand at the IEEE Rising Stars Conference 2026! \n",
      "\n",
      "Dear [Recipient's Name],\n",
      "\n",
      "I hope this email finds you well and thriving! As we dive into the future of technology and innovation, I’m reaching out on behalf of the IEEE Rising Stars Conference happening from January 3-5, 2026, at the vibrant Luxor Hotel in Las Vegas.\n",
      "\n",
      "Imagine this: over a thousand enthusiastic minds coming together to connect, collaborate, and revolutionize the future of engineering. This is your chance to be front and center as a sponsor, positioning your brand among the brightest talent in the industry!\n",
      "\n",
      "**Why Sponsor?**  \n",
      "- **Brand Visibility**: Showcase your company to future engineers, industry leaders, and potential partners.\n",
      "- **Networking Opportunities**: Engage with eager students and professionals who are looking for real-world connections and opportunities.\n",
      "- **Thought Leadership**: Share your insights through keynote sessions or workshops, establishing your organization as a leader in the field.\n",
      "\n",
      "This isn’t just a conference; it’s a launchpad for careers and collaborations. By joining us as a sponsor, you’ll not only elevate your brand but also play a vital role in shaping the future of engineering.\n",
      "\n",
      "I’d love to discuss how we can tailor a sponsorship package that aligns with your goals and values. Let’s set up a time to chat about the exciting possibilities!\n",
      "\n",
      "Looking forward to your response.\n",
      "\n",
      "Best regards,  \n",
      "[Your Name]  \n",
      "Sponsorship Volunteer  \n",
      "IEEE Rising Stars Conference  \n",
      "[Your Contact Information]  \n"
     ]
    }
   ],
   "source": [
    "message = \"Write a cold Volunteer Email\"\n",
    "\n",
    "with trace(\"Selection from Volunteers\"):\n",
    "    result = await asyncio.gather(\n",
    "        Runner.run(volunteer_agent1, message),\n",
    "        Runner.run(volunteer_agent2, message),\n",
    "        Runner.run(volunteer_agent3, message)\n",
    "\n",
    "    )\n",
    "\n",
    "outputs = [result.final_output for result in results]\n",
    "\n",
    "emails =\"Cold Sponsor Emails:\\n\\n\" + \"\\n\\nEmail\".join(outputs)\n",
    "\n",
    "best = await Runner.run(volunteer_pick, emails)\n",
    "\n",
    "print(f\"Best Sponsor Email:\\n{best.final_output}\")"
   ]
  },
  {
   "cell_type": "markdown",
   "id": "78952209",
   "metadata": {},
   "source": [
    "## Using tools "
   ]
  },
  {
   "cell_type": "code",
   "execution_count": 11,
   "id": "27afc6be",
   "metadata": {},
   "outputs": [],
   "source": [
    "volunteer_agent1 = Agent(\n",
    "    name=\"Professional Volunteer\",\n",
    "    instructions=instruction1,\n",
    "    model=\"gpt-4o-mini\"\n",
    ")\n",
    "\n",
    "volunteer_agent2 = Agent(\n",
    "    name=\"Convicng Agent\",\n",
    "    instructions=instruction2,\n",
    "    model =\"gpt-4o-mini\"\n",
    "\n",
    ")\n",
    "\n",
    "volunteer_agent3 = Agent(\n",
    "    name=\"Busy Volunteer\",\n",
    "    instructions=instruction3,\n",
    "    model =\"gpt-4o-mini\"\n",
    ")"
   ]
  },
  {
   "cell_type": "code",
   "execution_count": 12,
   "id": "93cf4092",
   "metadata": {},
   "outputs": [
    {
     "data": {
      "text/plain": [
       "Agent(name='Professional Volunteer', instructions=' You are part of an IEEE Rising working as Sponsorship Volunteer     IEEE Rising Stars is annual Conference that happens in Las Vegas in First Week of January Every Year        You write Professional, serious cold emails to companies and universities requesting to be part of the sponsors             The conference will take place next year 2026 on January 3-5, 2025 at Luxor Hotel', prompt=None, handoff_description=None, handoffs=[], model='gpt-4o-mini', model_settings=ModelSettings(temperature=None, top_p=None, frequency_penalty=None, presence_penalty=None, tool_choice=None, parallel_tool_calls=None, truncation=None, max_tokens=None, reasoning=None, metadata=None, store=None, include_usage=None, extra_query=None, extra_body=None, extra_headers=None, extra_args=None), tools=[], mcp_servers=[], mcp_config={}, input_guardrails=[], output_guardrails=[], output_type=None, hooks=None, tool_use_behavior='run_llm_again', reset_tool_choice=True)"
      ]
     },
     "execution_count": 12,
     "metadata": {},
     "output_type": "execute_result"
    }
   ],
   "source": [
    "volunteer_agent1"
   ]
  },
  {
   "cell_type": "code",
   "execution_count": 13,
   "id": "e6a8ab6c",
   "metadata": {},
   "outputs": [],
   "source": [
    "@function_tool\n",
    "def send_email(body:str):\n",
    "\n",
    "    sg = sendgrid.SendGridAPIClient(api_key=sendgrid_api_key)\n",
    "    from_email = Email(\"heartdan66@gmail.com\")\n",
    "    to_email = To(\"dahimbisibwe66@gmail.com\")\n",
    "    content = Content(\"text/plain\", body)\n",
    "    mail = Mail(from_email, to_email, \"Sponsor Email\", content).get()\n",
    "    sg.client.mail.send.post(request_body=mail)\n",
    "    return {\"status\":\"success\"}"
   ]
  },
  {
   "cell_type": "code",
   "execution_count": 14,
   "id": "acb1a723",
   "metadata": {},
   "outputs": [
    {
     "data": {
      "text/plain": [
       "FunctionTool(name='send_email', description='', params_json_schema={'properties': {'body': {'title': 'Body', 'type': 'string'}}, 'required': ['body'], 'title': 'send_email_args', 'type': 'object', 'additionalProperties': False}, on_invoke_tool=<function function_tool.<locals>._create_function_tool.<locals>._on_invoke_tool at 0x0000029B81672520>, strict_json_schema=True, is_enabled=True)"
      ]
     },
     "execution_count": 14,
     "metadata": {},
     "output_type": "execute_result"
    }
   ],
   "source": [
    "send_email"
   ]
  },
  {
   "cell_type": "code",
   "execution_count": 15,
   "id": "308153b8",
   "metadata": {},
   "outputs": [
    {
     "data": {
      "text/plain": [
       "FunctionTool(name='volunteer_agent1', description='Write a cold sponsor email', params_json_schema={'properties': {'input': {'title': 'Input', 'type': 'string'}}, 'required': ['input'], 'title': 'volunteer_agent1_args', 'type': 'object', 'additionalProperties': False}, on_invoke_tool=<function function_tool.<locals>._create_function_tool.<locals>._on_invoke_tool at 0x0000029B816737E0>, strict_json_schema=True, is_enabled=True)"
      ]
     },
     "execution_count": 15,
     "metadata": {},
     "output_type": "execute_result"
    }
   ],
   "source": [
    "tool1 = volunteer_agent1.as_tool(tool_name=\"volunteer_agent1\", tool_description=\"Write a cold sponsor email\")\n",
    "tool1"
   ]
  },
  {
   "cell_type": "code",
   "execution_count": 16,
   "id": "35d4bc45",
   "metadata": {},
   "outputs": [],
   "source": [
    "\n",
    "description = \"Write a cold Sponsor Email\"\n",
    "\n",
    "tool1 = volunteer_agent1.as_tool(tool_name=\"volunteer_agent1\", tool_description=description)\n",
    "tool2 = volunteer_agent2.as_tool(tool_name=\"volunteer_agent2\", tool_description=description)\n",
    "tool3 = volunteer_agent3.as_tool(tool_name='volunteer_agent3', tool_description=description)"
   ]
  },
  {
   "cell_type": "code",
   "execution_count": 17,
   "id": "1dd213c0",
   "metadata": {},
   "outputs": [],
   "source": [
    "tools = [tool1, tool2, tool3]"
   ]
  },
  {
   "cell_type": "code",
   "execution_count": 18,
   "id": "df302c08",
   "metadata": {},
   "outputs": [
    {
     "data": {
      "text/plain": [
       "[FunctionTool(name='volunteer_agent1', description='Write a cold Sponsor Email', params_json_schema={'properties': {'input': {'title': 'Input', 'type': 'string'}}, 'required': ['input'], 'title': 'volunteer_agent1_args', 'type': 'object', 'additionalProperties': False}, on_invoke_tool=<function function_tool.<locals>._create_function_tool.<locals>._on_invoke_tool at 0x0000029B81673A60>, strict_json_schema=True, is_enabled=True),\n",
       " FunctionTool(name='volunteer_agent2', description='Write a cold Sponsor Email', params_json_schema={'properties': {'input': {'title': 'Input', 'type': 'string'}}, 'required': ['input'], 'title': 'volunteer_agent2_args', 'type': 'object', 'additionalProperties': False}, on_invoke_tool=<function function_tool.<locals>._create_function_tool.<locals>._on_invoke_tool at 0x0000029B816739C0>, strict_json_schema=True, is_enabled=True),\n",
       " FunctionTool(name='volunteer_agent3', description='Write a cold Sponsor Email', params_json_schema={'properties': {'input': {'title': 'Input', 'type': 'string'}}, 'required': ['input'], 'title': 'volunteer_agent3_args', 'type': 'object', 'additionalProperties': False}, on_invoke_tool=<function function_tool.<locals>._create_function_tool.<locals>._on_invoke_tool at 0x0000029B81672FC0>, strict_json_schema=True, is_enabled=True)]"
      ]
     },
     "execution_count": 18,
     "metadata": {},
     "output_type": "execute_result"
    }
   ],
   "source": [
    "tools"
   ]
  },
  {
   "cell_type": "code",
   "execution_count": 19,
   "id": "b1061d14",
   "metadata": {},
   "outputs": [],
   "source": [
    "instructions = \"\"\"\n",
    "\n",
    "You are acting as Chair of the IEEE Rising Stars Sponsorshop Committtee. Your goal is to find the best cold emails using the volunteer_agents\n",
    "Follow these steps carefully:\n",
    "1. Generate Drafts: use all these 3 tools to genreate 3 diffetmet email drafts. Dont proceed until all 3 drafts are ready\n",
    "2. use the send_email tool to send the best email (and only the best email) to the user\n",
    "\n",
    "crucial rules:\n",
    "You must use the agents to generate the drafts\n",
    "You must sned ONE Email using the send email too - never more than open\n",
    "\n",
    "\"\"\""
   ]
  },
  {
   "cell_type": "code",
   "execution_count": 20,
   "id": "a69757f6",
   "metadata": {},
   "outputs": [],
   "source": [
    "# volunteer_manager = Agent(name=\"Volunteer_Manager\", instructions=instructions, tools = tools, model=\"gpt-4o-mini\")\n",
    "\n",
    "# message = \"Send a cold sponsor email addressed as Dear Potential Sponsor\"\n",
    "\n",
    "# with trace(\"Volunter Manager\"):\n",
    "#     result = await Runner.run(\n",
    "#         volunteer_manager,\n",
    "#         message\n",
    "#     )"
   ]
  },
  {
   "cell_type": "code",
   "execution_count": null,
   "id": "e8a7e26a",
   "metadata": {},
   "outputs": [],
   "source": []
  }
 ],
 "metadata": {
  "kernelspec": {
   "display_name": ".venv",
   "language": "python",
   "name": "python3"
  },
  "language_info": {
   "codemirror_mode": {
    "name": "ipython",
    "version": 3
   },
   "file_extension": ".py",
   "mimetype": "text/x-python",
   "name": "python",
   "nbconvert_exporter": "python",
   "pygments_lexer": "ipython3",
   "version": "3.12.5"
  }
 },
 "nbformat": 4,
 "nbformat_minor": 5
}
